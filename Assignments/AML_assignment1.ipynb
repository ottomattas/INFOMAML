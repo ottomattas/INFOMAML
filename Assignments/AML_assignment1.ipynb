{
 "cells": [
  {
   "cell_type": "markdown",
   "metadata": {},
   "source": [
    "# Advanced Machine Learning - programming assignment 1"
   ]
  },
  {
   "cell_type": "markdown",
   "metadata": {},
   "source": [
    "**Please fill in:**\n",
    "* Ernö Groeneweg (4279662)\n",
    "* Otto Mättas (6324363)\n",
    "* Vincent de Wit (6970877)"
   ]
  },
  {
   "cell_type": "markdown",
   "metadata": {},
   "source": [
    "## Structural causal models\n",
    "In this programming assignment, we will look at data from a structural causal model, and see how we can estimate the causal effect of $X$ on $Y$ from these data. The model consists of three variables:\n",
    "\n",
    "* $X$ is the treatment: the dosage of a drug taken by a patient;\n",
    "* $Y$ is the outcome: a numerical score reflecting how well the patient recovered;\n",
    "* $Z$ is an additional variable that summarizes relevant genetic information about a patient.\n",
    "\n",
    "$Y$ and $Z$ are continuous (real-valued), while $X$ is discrete.\n",
    "\n",
    "The following code generates and plots observational data from this model."
   ]
  },
  {
   "cell_type": "code",
   "execution_count": 1,
   "metadata": {},
   "outputs": [
    {
     "data": {
      "text/plain": [
       "<Figure size 640x480 with 1 Axes>"
      ]
     },
     "metadata": {},
     "output_type": "display_data"
    },
    {
     "data": {
      "text/plain": [
       "<Figure size 640x480 with 1 Axes>"
      ]
     },
     "metadata": {},
     "output_type": "display_data"
    }
   ],
   "source": [
    "import numpy as np\n",
    "from sklearn import linear_model\n",
    "import matplotlib.pyplot as plt\n",
    "\n",
    "# Generate data from the observational distribution\n",
    "def f_Z(num_samples):\n",
    "    return 4 * np.random.random(size=num_samples) + 4 * np.random.random(size=num_samples)\n",
    "def f_X(z, num_samples):\n",
    "    x_cont = z + np.random.normal(loc=0.0, scale=1.0, size=num_samples)\n",
    "    return np.clip(2 * np.around(0.5 * (x_cont)), 0, 10).astype(dtype=int)\n",
    "def f_Y(z, x, num_samples):\n",
    "    return 2*z - x + np.random.normal(loc=0.0, scale=0.4, size=num_samples)\n",
    "def generate_observational_data(num_samples):\n",
    "    z = f_Z(num_samples)\n",
    "    x = f_X(z, num_samples)\n",
    "    y = f_Y(z, x, num_samples)\n",
    "    return (x, y, z)\n",
    "\n",
    "num_samples_obs = 1000\n",
    "\n",
    "x, y, z = generate_observational_data(num_samples_obs)\n",
    "\n",
    "plt.scatter(x, y, c=z)\n",
    "plt.show()\n",
    "\n",
    "plt.scatter(z,y,c=x)\n",
    "plt.show()"
   ]
  },
  {
   "cell_type": "markdown",
   "metadata": {},
   "source": [
    "With any supervised learning method of your choice, predict y using x as the only feature. Make a new plot that displays both the data and your prediction curve."
   ]
  },
  {
   "cell_type": "code",
   "execution_count": 2,
   "metadata": {},
   "outputs": [
    {
     "data": {
      "image/png": "[encoded data removed]",
      "text/plain": [
       "<Figure size 432x288 with 1 Axes>"
      ]
     },
     "metadata": {
      "needs_background": "light"
     },
     "output_type": "display_data"
    }
   ],
   "source": [
    "# Your code here\n",
    "from sklearn.model_selection import train_test_split\n",
    "from sklearn.neighbors import KNeighborsRegressor\n",
    "\n",
    "x_train, x_test, y_train, y_test = train_test_split(x, y, test_size=0.2, random_state=123)\n",
    "\n",
    "model = KNeighborsRegressor()\n",
    "\n",
    "model.fit(x_train.reshape(-1,1), y_train)\n",
    "\n",
    "pred = model.predict(np.array([0,2,4,6,8,10]).reshape(-1,1))\n",
    "\n",
    "plt.scatter(x_test, y_test)\n",
    "plt.plot(np.array([0,2,4,6,8,10]), pred)\n",
    "\n",
    "plt.show()\n",
    "\n",
    "# np.sqrt(((pred - y_test) ** 2).mean())"
   ]
  },
  {
   "cell_type": "code",
   "execution_count": 3,
   "metadata": {
    "scrolled": true
   },
   "outputs": [],
   "source": [
    "def generate_experimental_data(x, num_samples):\n",
    "    # Generate data under intervention do(X=x[i]). x is a vector of length num_samples.\n",
    "    \n",
    "    # Your code here\n",
    "    z = f_Z(num_samples)\n",
    "    y = f_Y(z, x, num_samples)\n",
    "    \n",
    "    # return (x, y, z)\n",
    "    return (x, y, z)"
   ]
  },
  {
   "cell_type": "markdown",
   "metadata": {},
   "source": [
    "We will look at interventional data where for each data point, the dosage is chosen uniformly at random from the set {0,2,4,8}, independently for each individual."
   ]
  },
  {
   "cell_type": "code",
   "execution_count": 4,
   "metadata": {},
   "outputs": [],
   "source": [
    "num_samples_exp = 200\n",
    "\n",
    "#x_int = 10 * np.random.random(size=num_samples_exp)\n",
    "x_exp = np.random.choice(np.array([0, 2, 4, 8], dtype=int), size=num_samples_exp)\n",
    "(x_exp, y_exp, z_exp) = generate_experimental_data(x_exp, num_samples_exp)"
   ]
  },
  {
   "cell_type": "markdown",
   "metadata": {},
   "source": [
    "Plot these experimental data in the same way as before, again with your prediction curve in the same plot."
   ]
  },
  {
   "cell_type": "code",
   "execution_count": 5,
   "metadata": {},
   "outputs": [
    {
     "data": {
      "image/png": "[encoded data removed]",
      "text/plain": [
       "<Figure size 432x288 with 1 Axes>"
      ]
     },
     "metadata": {
      "needs_background": "light"
     },
     "output_type": "display_data"
    }
   ],
   "source": [
    "# Your code here\n",
    "pred = model.predict(np.array([0,2,4,8]).reshape(-1,1))\n",
    "\n",
    "plt.scatter(x_exp, y_exp)\n",
    "plt.plot(np.array([0,2,4,8]), pred)\n",
    "\n",
    "plt.show()"
   ]
  },
  {
   "cell_type": "markdown",
   "metadata": {},
   "source": [
    "Compute the RMSE (root mean squared error) when you use the predictor you learned earlier to predict y in these new data."
   ]
  },
  {
   "cell_type": "code",
   "execution_count": 6,
   "metadata": {},
   "outputs": [
    {
     "data": {
      "text/plain": [
       "5.400003289508086"
      ]
     },
     "execution_count": 6,
     "metadata": {},
     "output_type": "execute_result"
    }
   ],
   "source": [
    "pred = model.predict(x_exp.reshape(-1,1))\n",
    "\n",
    "np.sqrt(((pred - y_exp) ** 2).mean())"
   ]
  },
  {
   "cell_type": "markdown",
   "metadata": {},
   "source": [
    "**Question:** What (marginal or conditional) independence should hold in the experimental data, based on d-separation? Plot the data in a way that illustrates this independence, and explain what property of the plot illustrates the independence."
   ]
  },
  {
   "cell_type": "markdown",
   "metadata": {},
   "source": [
    "*Your answer here*\n",
    "\n",
    "Since $X$ is being intervened on and $Z$ is being accounted for; there is no influence of $Z$ on $X$. This means: $P(X|Z)=P(X)$ and consequently: $P(Y|do(X=x[i])) = SUM_z P(Y|X,Z) \\times P(Z) = SUM_z P(X,Y,Z) / P(X|Z) = SUM_z P(X,Y,Z) / P(X)$. The histogram shows in blue y in orange x and in green z. y and z are normally distributed and so can be explained as dependent since z and y both have less occurances with values farther away from 0. But x is independent of z since a simple rule that describes their relation can not be formulated ie. when z increases x decreases. Knowing Z does not give information about the value of X.\n"
   ]
  },
  {
   "cell_type": "code",
   "execution_count": 7,
   "metadata": {},
   "outputs": [
    {
     "data": {
      "text/plain": [
       "(array([ 5., 13., 27., 24., 30., 32., 21., 23., 15., 10.]),\n",
       " array([0.30151063, 1.01398193, 1.72645324, 2.43892455, 3.15139585,\n",
       "        3.86386716, 4.57633847, 5.28880977, 6.00128108, 6.71375239,\n",
       "        7.42622369]),\n",
       " <a list of 10 Patch objects>)"
      ]
     },
     "execution_count": 7,
     "metadata": {},
     "output_type": "execute_result"
    },
    {
     "data": {
      "image/png": "[encoded data removed]",
      "text/plain": [
       "<Figure size 432x288 with 1 Axes>"
      ]
     },
     "metadata": {
      "needs_background": "light"
     },
     "output_type": "display_data"
    }
   ],
   "source": [
    "#plt.scatter(x_exp, y_exp)\n",
    "plt.hist(y_exp)\n",
    "plt.hist(x_exp)\n",
    "plt.hist(z_exp)\n"
   ]
  },
  {
   "cell_type": "markdown",
   "metadata": {},
   "source": [
    "Now, we will use the method of Inverse Probability Weighing (section 3.6 in the book) for this task. Using *only the observational data*, fit a logistic regression to predict x using z as a feature. From this logistic regression, extract estimates for $P(X=x|Z=z)$. Use these to compute an inverse probability weight for each data point in the observational data set."
   ]
  },
  {
   "cell_type": "code",
   "execution_count": 8,
   "metadata": {},
   "outputs": [],
   "source": [
    "# Create logistic regression object\n",
    "model = linear_model.LogisticRegression(solver='lbfgs', multi_class='multinomial', max_iter=500)\n",
    "\n",
    "z_train, z_test = train_test_split(z, test_size=0.2, random_state=123)\n",
    "model.fit(z_train.reshape(-1,1), x_train)\n",
    "\n",
    "# p(x|z)=p(x,z)/p(z)\n",
    "pred_pro = model.predict_proba(z.reshape(-1,1))\n",
    "\n",
    "# 1/p(x|z)\n",
    "propensity_score = 1/pred_pro"
   ]
  },
  {
   "cell_type": "markdown",
   "metadata": {},
   "source": [
    "Now again predict y in terms of x using only the observational data as training data, but this time weight each data point with the inverse probability weight. Plot your regression curve in the same plot as the experimental data, as before."
   ]
  },
  {
   "cell_type": "code",
   "execution_count": 9,
   "metadata": {},
   "outputs": [
    {
     "data": {
      "image/png": "[encoded data removed]",
      "text/plain": [
       "<Figure size 432x288 with 1 Axes>"
      ]
     },
     "metadata": {
      "needs_background": "light"
     },
     "output_type": "display_data"
    }
   ],
   "source": [
    "model = linear_model.LinearRegression()\n",
    "\n",
    "index = (x/2).astype(int)\n",
    "weights = propensity_score[range(0,1000),index]\n",
    "\n",
    "model.fit(x.reshape(-1,1), y, sample_weight=weights)\n",
    "pred = model.predict(np.array([0,2,4,6,8,10]).reshape(-1,1))\n",
    "\n",
    "plt.scatter(x_exp, y_exp)\n",
    "plt.plot(np.array([0,2,4,6,8,10]), pred)\n",
    "plt.show()"
   ]
  },
  {
   "cell_type": "markdown",
   "metadata": {},
   "source": [
    "To verify that these predictions of the causal effect of X on Y are more accurate, again compute the RMSE on the experimental data."
   ]
  },
  {
   "cell_type": "code",
   "execution_count": 10,
   "metadata": {},
   "outputs": [
    {
     "data": {
      "text/plain": [
       "4.522410765486456"
      ]
     },
     "execution_count": 10,
     "metadata": {},
     "output_type": "execute_result"
    }
   ],
   "source": [
    "pred = model.predict(x_test.reshape(-1,1))\n",
    "np.sqrt(((pred - y_exp) ** 2).mean())"
   ]
  },
  {
   "cell_type": "markdown",
   "metadata": {},
   "source": [
    "You are done! Before handing in, use Kernel > Restart & run all. This makes sure that the code you hand in works, and that all plots are shown. Submit just one file per team."
   ]
  }
 ],
 "metadata": {
  "kernelspec": {
   "display_name": "Python 3",
   "language": "python",
   "name": "python3"
  },
  "language_info": {
   "codemirror_mode": {
    "name": "ipython",
    "version": 3
   },
   "file_extension": ".py",
   "mimetype": "text/x-python",
   "name": "python",
   "nbconvert_exporter": "python",
   "pygments_lexer": "ipython3",
   "version": "3.7.4"
  }
 },
 "nbformat": 4,
 "nbformat_minor": 2
}
