{
 "cells": [
  {
   "cell_type": "markdown",
   "metadata": {},
   "source": [
    "# Advanced Machine Learning - programming assignment 1"
   ]
  },
  {
   "cell_type": "markdown",
   "metadata": {},
   "source": [
    "**Please fill in:**\n",
    "* Ernö Groeneweg (4279662)\n",
    "* Otto Mättas (6324363)\n",
    "* Vincent de Wit (6970877)"
   ]
  },
  {
   "cell_type": "markdown",
   "metadata": {},
   "source": [
    "## Structural causal models\n",
    "In this programming assignment, we will look at data from a structural causal model, and see how we can estimate the causal effect of $X$ on $Y$ from these data. The model consists of three variables:\n",
    "\n",
    "* $X$ is the treatment: the dosage of a drug taken by a patient;\n",
    "* $Y$ is the outcome: a numerical score reflecting how well the patient recovered;\n",
    "* $Z$ is an additional variable that summarizes relevant genetic information about a patient.\n",
    "\n",
    "$Y$ and $Z$ are continuous (real-valued), while $X$ is discrete.\n",
    "\n",
    "The following code generates and plots observational data from this model."
   ]
  },
  {
   "cell_type": "code",
   "execution_count": 1,
   "metadata": {},
   "outputs": [
    {
     "data": {
      "text/plain": [
       "<Figure size 640x480 with 1 Axes>"
      ]
     },
     "metadata": {},
     "output_type": "display_data"
    },
    {
     "data": {
      "text/plain": [
       "<matplotlib.collections.PathCollection at 0x7fe665c41710>"
      ]
     },
     "execution_count": 1,
     "metadata": {},
     "output_type": "execute_result"
    }
   ],
   "source": [
    "import numpy as np\n",
    "from sklearn import linear_model\n",
    "import matplotlib.pyplot as plt\n",
    "\n",
    "# Generate data from the observational distribution\n",
    "def f_Z(num_samples):\n",
    "    return 4 * np.random.random(size=num_samples) + 4 * np.random.random(size=num_samples)\n",
    "def f_X(z, num_samples):\n",
    "    x_cont = z + np.random.normal(loc=0.0, scale=1.0, size=num_samples)\n",
    "    return np.clip(2 * np.around(0.5 * (x_cont)), 0, 10).astype(dtype=int)\n",
    "def f_Y(z, x, num_samples):\n",
    "    return 2*z - x + np.random.normal(loc=0.0, scale=0.4, size=num_samples)\n",
    "def generate_observational_data(num_samples):\n",
    "    z = f_Z(num_samples)\n",
    "    x = f_X(z, num_samples)\n",
    "    y = f_Y(z, x, num_samples)\n",
    "    return (x, y, z)\n",
    "\n",
    "num_samples_obs = 1000\n",
    "\n",
    "x, y, z = generate_observational_data(num_samples_obs)\n",
    "\n",
    "plt.scatter(x, y, c=z)\n",
    "plt.show()\n",
    "\n",
    "plt.scatter(z,y,c=x)"
   ]
  },
  {
   "cell_type": "markdown",
   "metadata": {},
   "source": [
    "With any supervised learning method of your choice, predict y using x as the only feature. Make a new plot that displays both the data and your prediction curve."
   ]
  },
  {
   "cell_type": "code",
   "execution_count": 2,
   "metadata": {},
   "outputs": [
    {
     "data": {
      "image/png": "[encoded data removed]",
      "text/plain": [
       "<Figure size 432x288 with 1 Axes>"
      ]
     },
     "metadata": {
      "needs_background": "light"
     },
     "output_type": "display_data"
    }
   ],
   "source": [
    "# Your code here\n",
    "from sklearn.model_selection import train_test_split\n",
    "from sklearn.neighbors import KNeighborsRegressor\n",
    "\n",
    "x_train, x_test, y_train, y_test = train_test_split(x, y, test_size=0.2, random_state=123)\n",
    "\n",
    "model = KNeighborsRegressor()\n",
    "\n",
    "model.fit(x_train.reshape(-1,1), y_train)\n",
    "\n",
    "pred = model.predict(x_test.reshape(-1,1))\n",
    "\n",
    "plt.scatter(x_test, y_test)\n",
    "plt.scatter(x_test, pred)\n",
    "\n",
    "plt.show()\n",
    "\n",
    "# np.sqrt(((pred - y_test) ** 2).mean())"
   ]
  },
  {
   "cell_type": "code",
   "execution_count": 3,
   "metadata": {
    "scrolled": true
   },
   "outputs": [],
   "source": [
    "def generate_experimental_data(x, num_samples):\n",
    "    # Generate data under intervention do(X=x[i]). x is a vector of length num_samples.\n",
    "    \n",
    "    # Your code here\n",
    "    z = f_Z(num_samples)\n",
    "    y = f_Y(z, x, num_samples)\n",
    "    \n",
    "    # return (x, y, z)\n",
    "    return (x, y, z)"
   ]
  },
  {
   "cell_type": "markdown",
   "metadata": {},
   "source": [
    "We will look at interventional data where for each data point, the dosage is chosen uniformly at random from the set {0,2,4,8}, independently for each individual."
   ]
  },
  {
   "cell_type": "code",
   "execution_count": 4,
   "metadata": {},
   "outputs": [],
   "source": [
    "num_samples_exp = 200\n",
    "\n",
    "#x_int = 10 * np.random.random(size=num_samples_exp)\n",
    "x_exp = np.random.choice(np.array([0, 2, 4, 8], dtype=int), size=num_samples_exp)\n",
    "(x_exp, y_exp, z_exp) = generate_experimental_data(x_exp, num_samples_exp)"
   ]
  },
  {
   "cell_type": "markdown",
   "metadata": {},
   "source": [
    "Plot these experimental data in the same way as before, again with your prediction curve in the same plot."
   ]
  },
  {
   "cell_type": "code",
   "execution_count": 5,
   "metadata": {},
   "outputs": [
    {
     "data": {
      "image/png": "[encoded data removed]",
      "text/plain": [
       "<Figure size 432x288 with 1 Axes>"
      ]
     },
     "metadata": {
      "needs_background": "light"
     },
     "output_type": "display_data"
    }
   ],
   "source": [
    "# Your code here\n",
    "pred = model.predict(x_exp.reshape(-1,1))\n",
    "\n",
    "plt.scatter(x_exp, y_exp)\n",
    "plt.scatter(x_exp, pred)\n",
    "\n",
    "plt.show()"
   ]
  },
  {
   "cell_type": "markdown",
   "metadata": {},
   "source": [
    "Compute the RMSE (root mean squared error) when you use the predictor you learned earlier to predict y in these new data."
   ]
  },
  {
   "cell_type": "code",
   "execution_count": 6,
   "metadata": {},
   "outputs": [
    {
     "data": {
      "text/plain": [
       "4.793987688569212"
      ]
     },
     "execution_count": 6,
     "metadata": {},
     "output_type": "execute_result"
    }
   ],
   "source": [
    "# Your code here\n",
    "np.sqrt(((pred - y_exp) ** 2).mean())"
   ]
  },
  {
   "cell_type": "markdown",
   "metadata": {},
   "source": [
    "**Question:** What (marginal or conditional) independence should hold in the experimental data, based on d-separation? Plot the data in a way that illustrates this independence, and explain what property of the plot illustrates the independence."
   ]
  },
  {
   "cell_type": "markdown",
   "metadata": {},
   "source": [
    "*Your answer here*\n",
    "\n",
    "Since X is being intervened on Z is being accounted for; there is no influence of Z on X. This means: P(X|Z)=P(X) and consequently: P(Y|do(X=x[i])) = SUM_z P(Y|X,Z)*P(Z) = SUM_z P(X,Y,Z)/P(X|Z) = SUM_z P(X,Y,Z)/P(X). The histogram shows in blue y in orange x and in green z. y and z are normally distributed and so can be explained as dependent since z and y both have less occurances with values farther away from 0. But x is independent of z since a simple rule that describes there relation can not be formulated ie. when z increases x decreases. Knowing Z does not give information about the value of X.\n"
   ]
  },
  {
   "cell_type": "code",
   "execution_count": 7,
   "metadata": {},
   "outputs": [
    {
     "data": {
      "text/plain": [
       "(array([10., 14., 22., 18., 25., 43., 33., 12., 13., 10.]),\n",
       " array([0.71104931, 1.38887427, 2.06669923, 2.7445242 , 3.42234916,\n",
       "        4.10017412, 4.77799909, 5.45582405, 6.13364901, 6.81147398,\n",
       "        7.48929894]),\n",
       " <a list of 10 Patch objects>)"
      ]
     },
     "execution_count": 7,
     "metadata": {},
     "output_type": "execute_result"
    },
    {
     "data": {
      "image/png": "[encoded data removed]",
      "text/plain": [
       "<Figure size 432x288 with 1 Axes>"
      ]
     },
     "metadata": {
      "needs_background": "light"
     },
     "output_type": "display_data"
    }
   ],
   "source": [
    "#plt.scatter(x_exp, y_exp)\n",
    "plt.hist(y_exp)\n",
    "plt.hist(x_exp)\n",
    "plt.hist(z_exp)\n"
   ]
  },
  {
   "cell_type": "markdown",
   "metadata": {},
   "source": [
    "Now, we will use the method of Inverse Probability Weighing (section 3.6 in the book) for this task. Using *only the observational data*, fit a logistic regression to predict x using z as a feature. From this logistic regression, extract estimates for $P(X=x|Z=z)$. Use these to compute an inverse probability weight for each data point in the observational data set."
   ]
  },
  {
   "cell_type": "code",
   "execution_count": 12,
   "metadata": {},
   "outputs": [
    {
     "name": "stdout",
     "output_type": "stream",
     "text": [
      "[0 0 0 ... 8 8 8]\n"
     ]
    },
    {
     "data": {
      "image/png": "[encoded data removed]",
      "text/plain": [
       "<Figure size 432x288 with 1 Axes>"
      ]
     },
     "metadata": {
      "needs_background": "light"
     },
     "output_type": "display_data"
    },
    {
     "data": {
      "text/plain": [
       "'\\npred = reg_logistic.predict(z_test.reshape(-1,1))\\n\\nplt.scatter(x_train,y_train,c=z_train)\\nplt.show()\\nplt.scatter(pred,y_test,c=z_test)\\nplt.show()\\n\\nplt.scatter(z_train, x_train)\\nplt.show()\\nplt.scatter(z_test, pred)\\nplt.show()\\n'"
      ]
     },
     "execution_count": 12,
     "metadata": {},
     "output_type": "execute_result"
    }
   ],
   "source": [
    "# Create logistic regression object\n",
    "reg_logistic = linear_model.LogisticRegression(solver='lbfgs', multi_class='multinomial', max_iter=500)\n",
    "\n",
    "# Your code here\n",
    "z_train, z_test = train_test_split(z, test_size=0.2, random_state=123)\n",
    "reg_logistic.fit(z_train.reshape(-1,1), x_train)\n",
    "\n",
    "# p(x|z)=p(x,z)/p(z)\n",
    "\n",
    "interval = np.linspace(-2, 10, 1200)\n",
    "pdf = reg_logistic.predict(interval.reshape(-1,1))\n",
    "\n",
    "plt.scatter(pdf, interval)\n",
    "plt.show()\n",
    "\n",
    "'''\n",
    "pred = reg_logistic.predict(z_test.reshape(-1,1))\n",
    "\n",
    "plt.scatter(x_train,y_train,c=z_train)\n",
    "plt.show()\n",
    "plt.scatter(pred,y_test,c=z_test)\n",
    "plt.show()\n",
    "\n",
    "plt.scatter(z_train, x_train)\n",
    "plt.show()\n",
    "plt.scatter(z_test, pred)\n",
    "plt.show()\n",
    "'''"
   ]
  },
  {
   "cell_type": "markdown",
   "metadata": {},
   "source": [
    "Now again predict y in terms of x using only the observational data as training data, but this time weight each data point with the inverse probability weight. Plot your regression curve in the same plot as the experimental data, as before."
   ]
  },
  {
   "cell_type": "code",
   "execution_count": null,
   "metadata": {},
   "outputs": [],
   "source": [
    "# Your code here"
   ]
  },
  {
   "cell_type": "markdown",
   "metadata": {},
   "source": [
    "To verify that these predictions of the causal effect of X on Y are more accurate, again compute the RMSE on the experimental data."
   ]
  },
  {
   "cell_type": "code",
   "execution_count": null,
   "metadata": {},
   "outputs": [],
   "source": [
    "# Your code here"
   ]
  },
  {
   "cell_type": "markdown",
   "metadata": {},
   "source": [
    "You are done! Before handing in, use Kernel > Restart & run all. This makes sure that the code you hand in works, and that all plots are shown. Submit just one file per team."
   ]
  }
 ],
 "metadata": {
  "kernelspec": {
   "display_name": "Python 3",
   "language": "python",
   "name": "python3"
  },
  "language_info": {
   "codemirror_mode": {
    "name": "ipython",
    "version": 3
   },
   "file_extension": ".py",
   "mimetype": "text/x-python",
   "name": "python",
   "nbconvert_exporter": "python",
   "pygments_lexer": "ipython3",
   "version": "3.7.4"
  }
 },
 "nbformat": 4,
 "nbformat_minor": 2
}
