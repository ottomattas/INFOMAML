{
 "cells": [
  {
   "cell_type": "markdown",
   "metadata": {},
   "source": [
    "# Advanced Machine Learning - programming assignment 2"
   ]
  },
  {
   "cell_type": "markdown",
   "metadata": {},
   "source": [
    "**Please fill in:**\n",
    "* name 1 (student id 1)\n",
    "* name 2 (student id 2)\n",
    "* name 3 (student id 3)"
   ]
  },
  {
   "cell_type": "markdown",
   "metadata": {},
   "source": [
    "## Implementing the PC algorithm\n",
    "In this assignment, you will complete an implementation of the PC algorithm. After that, you will use it to discover causal relations in a data set."
   ]
  },
  {
   "cell_type": "code",
   "execution_count": null,
   "metadata": {},
   "outputs": [],
   "source": [
    "import numpy as np\n",
    "import itertools\n",
    "import graphviz # conda install python-graphviz"
   ]
  },
  {
   "cell_type": "markdown",
   "metadata": {},
   "source": [
    "The graphviz can draw graphs to different file formats, or show them directly in the notebook. We will use numpy arrays to represent graphs. The following function converts such an array to a graph in graphviz format. "
   ]
  },
  {
   "cell_type": "code",
   "execution_count": null,
   "metadata": {},
   "outputs": [],
   "source": [
    "def graph_to_graphviz(G, node_names):\n",
    "    n = G.shape[0]\n",
    "    d = graphviz.Digraph(engine='circo') #'neato')\n",
    "    for node_name in node_names:\n",
    "        d.node(node_name)\n",
    "    for x in range(n):\n",
    "        for y in range(n):\n",
    "            if x == y:\n",
    "                continue\n",
    "            if G[x,y] and not G[y,x]:\n",
    "                d.edge(node_names[x], node_names[y])\n",
    "            elif x < y and G[x,y] and G[y,x]:\n",
    "                d.edge(node_names[x], node_names[y], dir='none')\n",
    "    return d"
   ]
  },
  {
   "cell_type": "code",
   "execution_count": null,
   "metadata": {},
   "outputs": [],
   "source": [
    "# Demonstration of graph_to_graphviz:\n",
    "node_names = ['X', 'Y', 'Z', 'W']\n",
    "G1 = np.zeros((4,4), dtype=bool)\n",
    "G1[0,1] = G1[2,1] = True # two directed edges\n",
    "G1[2,3] = G1[3,2] = True # an undirected edge\n",
    "d = graph_to_graphviz(G1, node_names)\n",
    "d # must be final line of code block to be displayed"
   ]
  },
  {
   "cell_type": "markdown",
   "metadata": {},
   "source": [
    "Here is a function that performs the PC algorithm. Add the missing code for phase 2, and implement phases 3 and 4."
   ]
  },
  {
   "cell_type": "code",
   "execution_count": null,
   "metadata": {},
   "outputs": [],
   "source": [
    "def PC_algorithm(n, independence_tester):\n",
    "    # PHASE I: Initialization\n",
    "    # The matrix G represents a graph as follows:\n",
    "    # - For all x, G[x,x] == False\n",
    "    # - G[x,y] == False and G[y,x] == False: no edge between x and y\n",
    "    # - G[x,y] == True  and G[y,x] == True:  undirected edge x --- y\n",
    "    # - G[x,y] == True  and G[y,x] == False: directed edge x --> y\n",
    "    G = np.logical_not(np.eye(n, dtype=bool))\n",
    "\n",
    "    # PHASE II: Skeleton search\n",
    "    # Note: Adj(X) in the slides means: all nodes adjacent to X in the current graph G\n",
    "    sepset = dict()\n",
    "    for k in range(n-1):\n",
    "        for x in range(n):\n",
    "            for y in range(n):\n",
    "                if not G[x,y]:\n",
    "                    continue\n",
    "                # Try all subsets S of Adj(x) \\ {y} with |S|=k,\n",
    "                # until an independence is found.\n",
    "                # Hint: use itertools.combinations\n",
    "                \n",
    "                # Your code here\n",
    "                \n",
    "                for S in []:\n",
    "                    indep = independence_tester.test_independence(x, y, S)\n",
    "                    if indep:\n",
    "                        print(\"independence found: {0} and {1} given {2}\".format(x,y,S))\n",
    "                        G[x,y] = G[y,x] = False\n",
    "                        S_mask = np.zeros(n, dtype=bool)\n",
    "                        np.put(S_mask, S, True)\n",
    "                        sepset[frozenset([x,y])] = S_mask\n",
    "                        break\n",
    "        # Do we need to continue with smaller k?\n",
    "        max_S_size = np.sum(G, axis=0) - 1\n",
    "        if np.all(max_S_size < k + 1):\n",
    "            break\n",
    "\n",
    "    # PHASE III: Orient v-structures\n",
    "    # Something to watch out for:\n",
    "    # If the data are not faithful to any graph, the algorithm may end up trying\n",
    "    # to orient a single edge in two different ways. You can choose either\n",
    "    # orientation if this happens.\n",
    "\n",
    "    # Your code here\n",
    "\n",
    "    # PHASE IV: Orientation rules\n",
    "\n",
    "    # Your code here\n",
    "\n",
    "    return G"
   ]
  },
  {
   "cell_type": "markdown",
   "metadata": {},
   "source": [
    "## Testing the PC implementation\n",
    "\n",
    "To verify that the algorithm is working correctly, we will feed it output from an /oracle/ instead of conditional independence test results from a data set. The oracle knows what the true graph is, and mimics the conditional independence test results that we would get for data that is Markov and faithful to that graph. In this situation, PC should be able to recover the Markov equivalence class of the true graph."
   ]
  },
  {
   "cell_type": "code",
   "execution_count": null,
   "metadata": {},
   "outputs": [],
   "source": [
    "def is_d_connected_dfs(mB, pos, w, S, vis):\n",
    "    # Made modifications to deal with CPDAGs as input\n",
    "    #print(\"At \", pos)\n",
    "    (v, dir) = pos\n",
    "    if v == w:\n",
    "        return True\n",
    "    if (dir == 0 and not S[v]) or (dir == 1 and S[v]):\n",
    "        # traverse backward (dir=0) along an arrow\n",
    "        next_vs_mask = np.logical_and(mB[v,:], np.logical_not(vis[:,0]))\n",
    "        if dir == 1:\n",
    "            # we can't continue on an undirected path in case dir == 1 and S[v])\n",
    "            next_vs_mask = np.logical_and(next_vs_mask, np.logical_not(mB[:,v]))\n",
    "        tmp = np.logical_or(vis[:,0], next_vs_mask)\n",
    "        vis[:,0] = tmp\n",
    "        for next_v in np.nonzero(next_vs_mask)[0]:\n",
    "            if is_d_connected_dfs(mB, (next_v, 0), w, S, vis):\n",
    "                return True\n",
    "    if not S[v]:\n",
    "        # traverse forward (dir=1) along an arrow\n",
    "        next_vs_mask = np.logical_and(mB[:,v], np.logical_not(vis[:,1]))\n",
    "        next_vs_mask = np.logical_and(next_vs_mask, np.logical_not(mB[v,:]))\n",
    "        vis[:,1] = np.logical_or(vis[:,1], next_vs_mask)\n",
    "        for next_v in np.nonzero(next_vs_mask)[0]:\n",
    "            if is_d_connected_dfs(mB, (next_v, 1), w, S, vis):\n",
    "                return True\n",
    "    return False\n",
    "\n",
    "def is_d_separated(G, v, w, S):\n",
    "    if S[v] or S[w]:\n",
    "        return True\n",
    "    mB = G.T\n",
    "    d = mB.shape[0]\n",
    "    # vis[v,0]: reachable by path ending in tail\n",
    "    # vis[v,1]: reachable by path ending in head\n",
    "    vis = np.zeros((d,2), dtype=bool)\n",
    "    pos = (v,0)\n",
    "    vis[pos] = True\n",
    "    is_d_connected_dfs(mB, pos, w, S, vis)\n",
    "    if vis[w,0] or vis[w,1]:\n",
    "        return False\n",
    "    return True\n",
    "\n",
    "class IndependenceOracle:\n",
    "    def __init__(self, true_G):\n",
    "        self.G = true_G\n",
    "        self.n = true_G.shape[0]\n",
    "    def test_independence(self, x, y, S):\n",
    "        S_mask = np.zeros(self.n, dtype=bool)\n",
    "        #S_mask[S] = True\n",
    "        np.put(S_mask, S, True)\n",
    "        return is_d_separated(self.G, x, y, S_mask)"
   ]
  },
  {
   "cell_type": "markdown",
   "metadata": {},
   "source": [
    "We will compare the output of PC to the oracle's true graph for the graph G1 we saw before, and for several other graphs. (You can add more tests to help chase down any bugs.)"
   ]
  },
  {
   "cell_type": "code",
   "execution_count": null,
   "metadata": {},
   "outputs": [],
   "source": [
    "oracle = IndependenceOracle(G1)\n",
    "G = PC_algorithm(4, oracle)\n",
    "print(\"CORRECT\" if np.all(G == G1) else \"INCORRECT\")\n",
    "graph_to_graphviz(G, node_names)"
   ]
  },
  {
   "cell_type": "code",
   "execution_count": null,
   "metadata": {},
   "outputs": [],
   "source": [
    "G2 = np.zeros((4,4), dtype=bool)\n",
    "G2[0,2] = G2[1,2] = G2[2,3] = True\n",
    "graph_to_graphviz(G2, node_names)"
   ]
  },
  {
   "cell_type": "code",
   "execution_count": null,
   "metadata": {},
   "outputs": [],
   "source": [
    "oracle = IndependenceOracle(G2)\n",
    "G = PC_algorithm(4, oracle)\n",
    "print(\"CORRECT\" if np.all(G == G2) else \"INCORRECT\")\n",
    "graph_to_graphviz(G, node_names)"
   ]
  },
  {
   "cell_type": "code",
   "execution_count": null,
   "metadata": {},
   "outputs": [],
   "source": [
    "G3 = np.zeros((4,4), dtype=bool)\n",
    "G3[0,2] = G3[1,2] = G3[1,3] = G3[2,3] = True\n",
    "graph_to_graphviz(G3, node_names)"
   ]
  },
  {
   "cell_type": "code",
   "execution_count": null,
   "metadata": {},
   "outputs": [],
   "source": [
    "oracle = IndependenceOracle(G3)\n",
    "G = PC_algorithm(4, oracle)\n",
    "print(\"CORRECT\" if np.all(G == G3) else \"INCORRECT\")\n",
    "graph_to_graphviz(G, node_names)"
   ]
  },
  {
   "cell_type": "code",
   "execution_count": null,
   "metadata": {},
   "outputs": [],
   "source": [
    "G4 = np.logical_not(np.eye(4, dtype=bool))\n",
    "G4[0,1] = G4[1,0] = False\n",
    "G4[3,0] = G4[3,1] = G4[3,2] = False\n",
    "graph_to_graphviz(G4, node_names)"
   ]
  },
  {
   "cell_type": "code",
   "execution_count": null,
   "metadata": {},
   "outputs": [],
   "source": [
    "oracle = IndependenceOracle(G4)\n",
    "G = PC_algorithm(4, oracle)\n",
    "print(\"CORRECT\" if np.all(G == G4) else \"INCORRECT\")\n",
    "graph_to_graphviz(G, node_names)"
   ]
  },
  {
   "cell_type": "markdown",
   "metadata": {},
   "source": [
    "## Running PC on data\n",
    "In this second part of the assignment, you will apply the PC algorithm to the biological dataset of Sachs et al. (2005). In this dataset, the columns represent 11 different proteins, which were measured in thousands of human immune system cells. Each row is a single cell. The cells were prepared in different ways, by adding different chemicals some time before the measurements were made. A twelfth column, labeled 'experiment', indicates in which way that cell was prepared. We can think of experiment=1 as denoting the observational data, and other values of experiment (2 through 14) as various interventional datasets."
   ]
  },
  {
   "cell_type": "code",
   "execution_count": null,
   "metadata": {},
   "outputs": [],
   "source": [
    "import pandas as pd\n",
    "\n",
    "all_data = pd.read_csv(\"sachs2005_combined.csv\", sep='\\t')\n",
    "# Transform all columns except 'experiment' by taking a logarithm\n",
    "all_data.loc[:, all_data.columns != 'experiment'] = np.log(all_data.loc[:, all_data.columns != 'experiment'])"
   ]
  },
  {
   "cell_type": "markdown",
   "metadata": {},
   "source": [
    "We will apply the PC algorithm to just the observational data.\n",
    "\n",
    "Make a new dataframe containing only the data where experiment equals 1. Remove the `experiment` column from this dataframe. Check the shape of your dataframe: it should be `(853, 11)`."
   ]
  },
  {
   "cell_type": "code",
   "execution_count": null,
   "metadata": {},
   "outputs": [],
   "source": [
    "# Your code here"
   ]
  },
  {
   "cell_type": "markdown",
   "metadata": {},
   "source": [
    "To run the PC algorithm on data, we need to perform (conditional) independence tests. The package [tigramite](https://github.com/jakobrunge/tigramite) implements several such tests. The simplest of these tests is ParCorr(). It assumes the data come from a linear model, which they actually don't. We will use it anyway, because the alternatives (such as CMIknn() (Runge, 2018)) are more effort to install and orders of magnitude slower.\n",
    "\n",
    "As a statistical test, a conditional independence test works by computing a p-value. If a conditional independence exists, this p-value will be approximately uniformly distributed on the interval between 0 and 1. If the variables being tested are conditionally dependent, the p-value will be close to 0. PC wants to know a binary answer, so we will pick some threshold alpha and declare an independence if the p-value is larger than alpha.\n",
    "\n",
    "In statistical testing, alpha is often taken to be 0.05 or smaller. For PC, it may be more appropriate to pick a (much) larger alpha instead. This is because as soon as PC finds a (conditional) independence between two variables, it will delete the edge between them and do no more tests between those two variables. If this happens while it shouldn't have, PC can't put the edge back. But in the reverse situation, if PC leaves an edge in place while it should have deleted it, there is still a possibility that the edge will be deleted later, when another test between those two variables reports a more convincing independence."
   ]
  },
  {
   "cell_type": "code",
   "execution_count": null,
   "metadata": {},
   "outputs": [],
   "source": [
    "from tigramite.independence_tests import ParCorr, CMIknn\n",
    "import tigramite.data_processing as pp\n",
    "# Importing these may give some warnings (e.g. 'Could not import r-package RCIT'),\n",
    "# but most of these warnings can be ignored because we are not using the mentioned packages.\n",
    "\n",
    "class IndependenceTester:\n",
    "    def __init__(self, data, cond_ind_test, alpha):\n",
    "        # data: a pandas dataframe\n",
    "        # cond_ind_test: an independence test from tigramite, e.g. ParCorr()\n",
    "        # alpha: the significance level to which the p-values are compared\n",
    "        \n",
    "        # tigramite uses its own kind of dataframe, so convert the data to that format\n",
    "        df_tigramite = pp.DataFrame(data.to_numpy(), var_names=data.columns)\n",
    "        self.cond_ind_test = cond_ind_test\n",
    "        self.cond_ind_test.set_dataframe(df_tigramite)\n",
    "        self.n = data.shape[1]\n",
    "        self.alpha = alpha\n",
    "    def test_independence(self, x, y, S):\n",
    "        val, pval = self.cond_ind_test.run_test(X=[(x, 0)],\n",
    "                                                Y=[(y, 0)],\n",
    "                                                Z=[(z, 0) for z in S])\n",
    "        print(\"test: {0} and {1} given {2} -> pval={3}\".format(x,y,S,pval))\n",
    "        return pval > self.alpha"
   ]
  },
  {
   "cell_type": "markdown",
   "metadata": {},
   "source": [
    "Using an IndependenceTester object (which works similarly to the IndependenceOracle we used earlier), run the PC algorithm on the observational data. Display the graph that comes out. You may experiment with different values of alpha; the graph you get should have just one or two connected components."
   ]
  },
  {
   "cell_type": "code",
   "execution_count": null,
   "metadata": {},
   "outputs": [],
   "source": [
    "# Your code here"
   ]
  },
  {
   "cell_type": "markdown",
   "metadata": {},
   "source": [
    "Now let's look at what else is in the dataset: the interventional data corresponding to different experiments.\n",
    "\n",
    "The interventions in these experiment are not perfect interventions: they change the structural equation of a variable, but not by setting it to a constant. The new structural equation in the intervened model may still include all variables that were there in the original model. So in the graph of the intervened model, all arrows will still be there.\n",
    "\n",
    "Further, some of the interventions change not one, but multiple structural equations.\n",
    "\n",
    "For some of the interventions in the data, here is what they do according to many (but not all) experts:\n",
    "* experiment 5 adds the substance psitectorigenin, which modifies the amount of PIP2;\n",
    "* experiment 6 adds the substance U0126, which increases the *activity* of pmek. This means that the amount of pmek is not changed by the intervention, but for all *children* of pmek in the causal model, the structural equation changes to reflect that pmek now has a stronger effect on them. pmek is believed to have only one child in the true causal model, namely perk.\n",
    "\n",
    "(Source: Mooij et al., 2019, specifically Tables 2 & 3 and Figure 35(a))"
   ]
  },
  {
   "cell_type": "markdown",
   "metadata": {},
   "source": [
    "Create two new dataframes, one containing all data from experiments 1 and 5, and one with the data from experiments 1 and 6. These dataframes should still have an 'experiment' column, so that you can tell for each row whether it came from the observational or the interventional dataset."
   ]
  },
  {
   "cell_type": "code",
   "execution_count": null,
   "metadata": {},
   "outputs": [],
   "source": [
    "# Your code here"
   ]
  },
  {
   "cell_type": "markdown",
   "metadata": {},
   "source": [
    "**Question**: In the dataframe for experiments 1 and 5, look at PIP2 and the variables that were adjacent to it in the output of PC. Based on looking at some plots, does the data give evidence for or against the hypothesis that psitectorigenin modifies PIP2? And what does the data for the two experiments seem to say about the directions of the arrows between PIP2 and its neighbours?\n",
    "\n",
    "Insert one or more markdown and code boxes below here to give your answer and the plots you base your answer on. (Put your answer in markdown boxes, not as comments in your code!)"
   ]
  },
  {
   "cell_type": "markdown",
   "metadata": {},
   "source": [
    "**Question**: In the dataframe for experiments 1 and 6, look at pmek, perk, and any other variables you think might be relevant. Assume it is true that adding U0126 produces an intervention on the activity of pmek. What would you expect to see in the data if the graph found by PC was correct? What changes would you propose to that graph based on the data?\n",
    "\n",
    "Again put your answer with accompanying plots in new boxes below here."
   ]
  },
  {
   "cell_type": "markdown",
   "metadata": {},
   "source": [
    "### References\n",
    "* J. M. Mooij, S. Magliacane, and T. Claassen, \"Joint Causal Inference from Multiple Contexts,\" [arXiv:1611.10351v4](https://arxiv.org/abs/1611.10351), 2019.\n",
    "* J. Runge, \"Conditional Independence Testing Based on a Nearest-Neighbor Estimator of Conditional Mutual Information\" In Proceedings of the 21st International Conference on Artificial Intelligence and Statistics, http://proceedings.mlr.press/v84/runge18a.html, 2018.\n",
    "* K. Sachs, O. Perez, D. Pe’er, D. A. Lauffenburger, and G. P. Nolan, \"Causal protein-signaling networks derived from multiparameter single-cell data,\" Science, vol. 308, no. 5721, pp. 523–529, 2005."
   ]
  }
 ],
 "metadata": {
  "kernelspec": {
   "display_name": "Python 3",
   "language": "python",
   "name": "python3"
  },
  "language_info": {
   "codemirror_mode": {
    "name": "ipython",
    "version": 3
   },
   "file_extension": ".py",
   "mimetype": "text/x-python",
   "name": "python",
   "nbconvert_exporter": "python",
   "pygments_lexer": "ipython3",
   "version": "3.7.4"
  }
 },
 "nbformat": 4,
 "nbformat_minor": 2
}
